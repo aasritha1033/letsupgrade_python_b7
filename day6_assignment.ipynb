{
 "cells": [
  {
   "cell_type": "markdown",
   "metadata": {},
   "source": [
    "# assignment 1"
   ]
  },
  {
   "cell_type": "markdown",
   "metadata": {},
   "source": [
    "creating a back account with 2 attributes account holder name and balance and 2 methods deposite , withdrawal"
   ]
  },
  {
   "cell_type": "code",
   "execution_count": 9,
   "metadata": {},
   "outputs": [],
   "source": [
    "class bank():\n",
    "    def __init__(self,oname,balance):\n",
    "        self.oname=oname\n",
    "        self.balance=balance\n",
    "    def deposite(self,v):\n",
    "        self.v=v\n",
    "        self.balance=self.balance+self.v\n",
    "        print('balance=',self.balance)\n",
    "    def withdraw(self,a):\n",
    "        self.a=a\n",
    "        if self.a>self.balance:\n",
    "                   print('withdrawal is not possible')                                                \n",
    "        else:\n",
    "                  self.balance=self.balance-self.a\n",
    "                  print('withdrawed ',self.a,'\\n balance=',self.balance)"
   ]
  },
  {
   "cell_type": "code",
   "execution_count": 10,
   "metadata": {},
   "outputs": [
    {
     "name": "stdout",
     "output_type": "stream",
     "text": [
      "enter owner nameaasritha\n",
      "enter balance 90000\n",
      "enter your choice\n",
      " 1.deposite \n",
      " 2.withdraw\n",
      "1\n",
      "enter the amount to deposite500\n",
      "balance= 90500\n"
     ]
    }
   ],
   "source": [
    "n=input('enter owner name')\n",
    "b=int(input('enter balance'))\n",
    "but=bank(a,b)\n",
    "f=int(input('enter your choice\\n 1.deposite \\n 2.withdraw\\n'))\n",
    "if f==1:\n",
    "    v=int(input('enter the amount to deposite'))\n",
    "    but.deposite(v)\n",
    "else:\n",
    "    a=int(input('enter amount to  be withdrawed'))\n",
    "    but.withdraw(a)"
   ]
  },
  {
   "cell_type": "markdown",
   "metadata": {},
   "source": [
    "# assignment 2"
   ]
  },
  {
   "cell_type": "markdown",
   "metadata": {},
   "source": [
    "create a cone class that has two attributes radius,height and two methods volume and surface area"
   ]
  },
  {
   "cell_type": "code",
   "execution_count": 10,
   "metadata": {},
   "outputs": [],
   "source": [
    "import math\n",
    "class cone():\n",
    "    def __init__(self,r,h):\n",
    "        self.r=r\n",
    "        self.h=h\n",
    "    def volume(self):\n",
    "        v=(self.h/3)*(22/7)*(self.r**2)\n",
    "        print('volume =',v)\n",
    "    def surfacea(self):\n",
    "        sa=((22/7)*self.r*(math.sqrt((self.r**2))+(self.h**2)))\n",
    "        print('surface area',sa)"
   ]
  },
  {
   "cell_type": "code",
   "execution_count": 11,
   "metadata": {},
   "outputs": [
    {
     "name": "stdout",
     "output_type": "stream",
     "text": [
      "enter radius2\n",
      "enter height4\n",
      "volume = 16.76190476190476\n",
      "surface area 113.14285714285714\n"
     ]
    }
   ],
   "source": [
    "radius=int(input('enter radius'))\n",
    "height=int(input('enter height'))\n",
    "cones=cone(radius,height)\n",
    "cones.volume()\n",
    "cones.surfacea()"
   ]
  },
  {
   "cell_type": "code",
   "execution_count": null,
   "metadata": {},
   "outputs": [],
   "source": []
  }
 ],
 "metadata": {
  "kernelspec": {
   "display_name": "Python 3",
   "language": "python",
   "name": "python3"
  },
  "language_info": {
   "codemirror_mode": {
    "name": "ipython",
    "version": 3
   },
   "file_extension": ".py",
   "mimetype": "text/x-python",
   "name": "python",
   "nbconvert_exporter": "python",
   "pygments_lexer": "ipython3",
   "version": "3.7.6"
  }
 },
 "nbformat": 4,
 "nbformat_minor": 4
}
