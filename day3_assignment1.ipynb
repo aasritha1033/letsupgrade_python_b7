{
 "cells": [
  {
   "cell_type": "markdown",
   "metadata": {},
   "source": [
    "You all are pilots, you have to land a plane,the altitude required for landing a planr is 1000ft,if it is less than 1000 tell \n",
    "piolet to land the plane,if it is more than 1000 but less than 5000ft ask the piolet to come down t0 1000ft, else if it is\n",
    "more than 5000ft ask the piolet to go around and try later"
   ]
  },
  {
   "cell_type": "code",
   "execution_count": 6,
   "metadata": {},
   "outputs": [
    {
     "name": "stdout",
     "output_type": "stream",
     "text": [
      "enter the altitude at which flight is flyuing7000\n",
      "turn around\n"
     ]
    }
   ],
   "source": [
    "n=input('enter the altitude at which flight is flyuing')\n",
    "n=int(n)\n",
    "if n<=1000:\n",
    "    print('safe to land')\n",
    "elif n>1000 and n<5000:\n",
    "    print('bring down to 1000')\n",
    "elif n>5000:\n",
    "    print('turn around')"
   ]
  },
  {
   "cell_type": "code",
   "execution_count": null,
   "metadata": {},
   "outputs": [],
   "source": []
  }
 ],
 "metadata": {
  "kernelspec": {
   "display_name": "Python 3",
   "language": "python",
   "name": "python3"
  },
  "language_info": {
   "codemirror_mode": {
    "name": "ipython",
    "version": 3
   },
   "file_extension": ".py",
   "mimetype": "text/x-python",
   "name": "python",
   "nbconvert_exporter": "python",
   "pygments_lexer": "ipython3",
   "version": "3.7.6"
  }
 },
 "nbformat": 4,
 "nbformat_minor": 4
}
